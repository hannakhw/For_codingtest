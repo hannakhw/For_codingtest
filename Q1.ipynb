{
 "cells": [
  {
   "cell_type": "markdown",
   "metadata": {},
   "source": [
    "[문제 링크](https://school.programmers.co.kr/learn/courses/30/lessons/178871?language=python3) by 프로그래머스\n",
    "\n",
    "문제 설명\n",
    "얀에서는 매년 달리기 경주가 열립니다. 해설진들은 선수들이 자기 바로 앞의 선수를 추월할 때 추월한 선수의 이름을 부릅니다. 예를 들어 1등부터 3등까지 \"mumu\", \"soe\", \"poe\" 선수들이 순서대로 달리고 있을 때, 해설진이 \"soe\"선수를 불렀다면 2등인 \"soe\" 선수가 1등인 \"mumu\" 선수를 추월했다는 것입니다. 즉 \"soe\" 선수가 1등, \"mumu\" 선수가 2등으로 바뀝니다.\n",
    "\n",
    "선수들의 이름이 1등부터 현재 등수 순서대로 담긴 문자열 배열 players와 해설진이 부른 이름을 담은 문자열 배열 callings가 매개변수로 주어질 때, 경주가 끝났을 때 선수들의 이름을 1등부터 등수 순서대로 배열에 담아 return 하는 solution 함수를 완성해주세요."
   ]
  },
  {
   "cell_type": "code",
   "execution_count": 5,
   "metadata": {},
   "outputs": [],
   "source": [
    "players = [\"sam\", \"apple\", \"note\", \"pen\", \"jack\", \"cup\", \"watch\"]\n",
    "callings= [\"apple\", \"note\", \"note\", \"cup\", \"sam\"]"
   ]
  },
  {
   "cell_type": "code",
   "execution_count": 41,
   "metadata": {},
   "outputs": [
    {
     "name": "stdout",
     "output_type": "stream",
     "text": [
      "[0, 1, 2, 3, 4, 5, 6]\n"
     ]
    }
   ],
   "source": [
    "list=[ ]\n",
    "for i in range(0, len(players)):\n",
    "    list.append(i)\n",
    "print(list)"
   ]
  },
  {
   "cell_type": "code",
   "execution_count": 46,
   "metadata": {},
   "outputs": [
    {
     "name": "stdout",
     "output_type": "stream",
     "text": [
      "{'sam': 0, 'apple': 1, 'note': 2, 'pen': 3, 'jack': 4, 'cup': 5, 'watch': 6}\n"
     ]
    }
   ],
   "source": [
    "players = [\"sam\", \"apple\", \"note\", \"pen\", \"jack\", \"cup\", \"watch\"]\n",
    "pairDic = {key : value for key, value in zip(players,list)}\n",
    "print(pairDic)"
   ]
  },
  {
   "cell_type": "code",
   "execution_count": 51,
   "metadata": {},
   "outputs": [
    {
     "data": {
      "text/plain": [
       "['apple', 'note', 'sam', 'pen', 'jack', 'cup', 'watch']"
      ]
     },
     "execution_count": 51,
     "metadata": {},
     "output_type": "execute_result"
    }
   ],
   "source": [
    "i = pairDic.get(\"note\") #i = 2\n",
    "tem = players[i-1]\n",
    "players[i-1] = players[i]\n",
    "players[i] = tem\n",
    "players"
   ]
  },
  {
   "cell_type": "code",
   "execution_count": 66,
   "metadata": {},
   "outputs": [],
   "source": [
    "players = [\"sam\", \"apple\", \"note\", \"pen\", \"jack\", \"cup\", \"watch\"]\n",
    "callings= [\"apple\", \"note\", \"note\"]\n",
    "\n",
    "def solution(players, callings):\n",
    "    list=[ ]\n",
    "    for i in range(0, len(players)):\n",
    "        list.append(i)  \n",
    "    \n",
    "    #calling 하나씩 실행하기\n",
    "    for call in callings:\n",
    "        #{'sam': 0, 'apple': 1, 'note': 2, 'pen': 3, 'jack': 4, 'cup': 5, 'watch': 6}\n",
    "        pairDic = {key : value for key, value in zip(players, list)}\n",
    "        #call = 'apple'\n",
    "        num = pairDic.get(call)\n",
    "        #num = 1\n",
    "        tem = players[pairDic.get(call)]\n",
    "        # tem = players[1] -> tem = 'apple'\n",
    "        players[num]=players[num-1] # player[1] 자리에 player[0]인 sam 저장\n",
    "        players[num-1] = tem #players[0]에 apple 저장\n",
    "        players_aftercall=players\n",
    "        #players 리스트 업데이트\n",
    "\n",
    "    answer = players_aftercall\n",
    "    return answer"
   ]
  },
  {
   "cell_type": "markdown",
   "metadata": {},
   "source": [
    "# 두번째 시도"
   ]
  },
  {
   "cell_type": "code",
   "execution_count": 65,
   "metadata": {},
   "outputs": [],
   "source": [
    "players = [\"sam\", \"apple\", \"note\", \"pen\", \"jack\", \"cup\", \"watch\"]\n",
    "callings= [\"apple\", \"note\", \"note\"]\n",
    "\n",
    "def solution2(players, callings):\n",
    " \n",
    "    #calling 하나씩 실행하기\n",
    "    for call in callings:\n",
    "        #call = 'apple'\n",
    "        if call in players:\n",
    "            num = players.index(call)        \n",
    "        #num = 1\n",
    "        tem = players[num]\n",
    "        # tem = players[1] -> tem = 'apple'\n",
    "        players[num]=players[num-1] # player[1] 자리에 player[0]인 sam 저장\n",
    "        players[num-1] = tem #players[0]에 apple 저장\n",
    "        players_aftercall=players\n",
    "        #players 리스트 업데이트\n",
    "\n",
    "    answer = players_aftercall\n",
    "    return answer"
   ]
  },
  {
   "cell_type": "markdown",
   "metadata": {},
   "source": [
    "# 세번째 시도"
   ]
  },
  {
   "cell_type": "code",
   "execution_count": 70,
   "metadata": {},
   "outputs": [],
   "source": [
    "players = [\"sam\", \"apple\", \"note\", \"pen\", \"jack\", \"cup\", \"watch\"]\n",
    "callings= [\"apple\", \"note\", \"note\"]\n",
    "\n",
    "def solution3(players, callings):\n",
    "    for call in callings:\n",
    "        if call in players:\n",
    "            num = players.index(call)        \n",
    "            tem = players[num]\n",
    "            players[num]=players[num-1] \n",
    "            players[num-1] = tem \n",
    "    return players"
   ]
  },
  {
   "cell_type": "code",
   "execution_count": 71,
   "metadata": {},
   "outputs": [
    {
     "data": {
      "text/plain": [
       "['apple', 'note', 'sam', 'pen', 'cup', 'jack', 'watch']"
      ]
     },
     "execution_count": 71,
     "metadata": {},
     "output_type": "execute_result"
    }
   ],
   "source": [
    "solution3([\"sam\", \"apple\", \"note\", \"pen\", \"jack\", \"cup\", \"watch\"],\n",
    "         [\"apple\", \"note\", \"cup\"])"
   ]
  },
  {
   "cell_type": "markdown",
   "metadata": {},
   "source": [
    "## 다듬기"
   ]
  },
  {
   "cell_type": "code",
   "execution_count": null,
   "metadata": {},
   "outputs": [],
   "source": [
    "players = [\"sam\", \"apple\", \"note\", \"pen\", \"jack\", \"cup\", \"watch\"]\n",
    "callings= [\"apple\", \"note\", \"cup\"]\n",
    "\n",
    "def solution3(players, callings):\n",
    "    for call in callings:\n",
    "        if call in players:\n",
    "            num = players.index(call)        \n",
    "            tem = players[num]\n",
    "            players[num]=players[num-1] \n",
    "            players[num-1] = tem \n",
    "    return players\n",
    "\n"
   ]
  },
  {
   "cell_type": "markdown",
   "metadata": {},
   "source": [
    "## np 활용..."
   ]
  },
  {
   "cell_type": "code",
   "execution_count": 73,
   "metadata": {},
   "outputs": [
    {
     "name": "stdout",
     "output_type": "stream",
     "text": [
      "['sam' 'apple' 'note' 'pen' 'jack' 'cup' 'watch']\n"
     ]
    }
   ],
   "source": [
    "import numpy as np\n",
    "\n",
    "players = np.array([\"sam\", \"apple\", \"note\", \"pen\", \"jack\", \"cup\", \"watch\"])\n",
    "print(players)"
   ]
  },
  {
   "cell_type": "code",
   "execution_count": 88,
   "metadata": {},
   "outputs": [
    {
     "data": {
      "text/plain": [
       "'sam'"
      ]
     },
     "execution_count": 88,
     "metadata": {},
     "output_type": "execute_result"
    }
   ],
   "source": [
    "players[0]"
   ]
  },
  {
   "cell_type": "code",
   "execution_count": 87,
   "metadata": {},
   "outputs": [
    {
     "data": {
      "text/plain": [
       "1"
      ]
     },
     "execution_count": 87,
     "metadata": {},
     "output_type": "execute_result"
    }
   ],
   "source": [
    "np.where(players==\"apple\")[0][0]"
   ]
  },
  {
   "cell_type": "code",
   "execution_count": 103,
   "metadata": {},
   "outputs": [],
   "source": [
    "import numpy as np\n",
    "\n",
    "players = np.array([\"sam\", \"apple\", \"note\", \"pen\", \"jack\", \"cup\", \"watch\"])\n",
    "callings= np.array([\"apple\", \"note\", \"note\"])\n",
    "\n",
    "def solution3(players, callings):\n",
    "    players = np.array(players)\n",
    "    callings= np.array(callings)\n",
    "    for call in callings:\n",
    "        num = np.where(players==call)[0][0]        \n",
    "        tem = players[num]\n",
    "        players[num]=players[num-1] \n",
    "        players[num-1] = tem \n",
    "    return players.tolist()"
   ]
  },
  {
   "cell_type": "code",
   "execution_count": 90,
   "metadata": {},
   "outputs": [
    {
     "data": {
      "text/plain": [
       "['apple', 'note', 'sam', 'pen', 'cup', 'jack', 'watch']"
      ]
     },
     "execution_count": 90,
     "metadata": {},
     "output_type": "execute_result"
    }
   ],
   "source": [
    "solution3([\"sam\", \"apple\", \"note\", \"pen\", \"jack\", \"cup\", \"watch\"],\n",
    "         [\"apple\", \"note\", \"cup\"])"
   ]
  },
  {
   "cell_type": "code",
   "execution_count": null,
   "metadata": {},
   "outputs": [],
   "source": [
    "players = np.array([\"sam\", \"apple\", \"note\", \"pen\", \"jack\", \"cup\", \"watch\"])\n",
    "players_num=[ ]\n",
    "for i in range(0, len(players)):\n",
    "    players_num.append(i)\n",
    "\n",
    "callings= [\"apple\", \"note\", \"note\"]\n",
    "callings_num = np.where(players == callings)\n",
    "print(callings_num)"
   ]
  },
  {
   "cell_type": "markdown",
   "metadata": {},
   "source": [
    "# 이건 더 안좋아짐. 7번에서도 시간초과.."
   ]
  },
  {
   "cell_type": "code",
   "execution_count": 106,
   "metadata": {},
   "outputs": [],
   "source": [
    "import numpy as np\n",
    "\n",
    "def solution4(players, callings):\n",
    "    players = np.array(players)\n",
    "    players_num=[ ]\n",
    "    for i in range(0, len(players)):\n",
    "        players_num.append(i)\n",
    "\n",
    "    callings= np.array(callings)\n",
    "    callings_num = []\n",
    "    for call in callings:\n",
    "        callings_num.append(np.where(players==call)[0][0])  \n",
    "\n",
    "    for call in callings_num:\n",
    "        num = np.where(players_num==call)[0][0]        \n",
    "        tem = players_num[num]\n",
    "        players_num[num]=players_num[num-1] \n",
    "        players_num[num-1] = tem \n",
    "\n",
    "    return players[players_num].tolist()"
   ]
  },
  {
   "cell_type": "code",
   "execution_count": 107,
   "metadata": {},
   "outputs": [
    {
     "data": {
      "text/plain": [
       "['apple', 'note', 'sam', 'pen', 'cup', 'jack', 'watch']"
      ]
     },
     "execution_count": 107,
     "metadata": {},
     "output_type": "execute_result"
    }
   ],
   "source": [
    "solution4([\"sam\", \"apple\", \"note\", \"pen\", \"jack\", \"cup\", \"watch\"],\n",
    "         [\"apple\", \"note\", \"cup\"])"
   ]
  },
  {
   "cell_type": "code",
   "execution_count": 99,
   "metadata": {},
   "outputs": [],
   "source": [
    "players = np.array([\"sam\", \"apple\", \"note\", \"pen\", \"jack\", \"cup\", \"watch\"])\n",
    "list = [0, 2, 3, 1, 6, 5, 4]"
   ]
  },
  {
   "cell_type": "code",
   "execution_count": 127,
   "metadata": {},
   "outputs": [],
   "source": [
    "def binary_search(target, data):\n",
    "    start = 0 \t\t\t# 맨 처음 위치\n",
    "    end = len(data) - 1 \t# 맨 마지막 위치\n",
    "\n",
    "    while start <= end:\n",
    "        mid = (start + end) // 2 # 중간값\n",
    "\n",
    "        if data[mid] == target:\n",
    "            return mid \t\t# target 위치 반환\n",
    "\n",
    "        elif data[mid] > target: # target이 작으면 왼쪽을 더 탐색\n",
    "            end = mid - 1\n",
    "        else:                    # target이 크면 오른쪽을 더 탐색\n",
    "            start = mid + 1\n",
    "    return data.index(target)"
   ]
  },
  {
   "cell_type": "code",
   "execution_count": 132,
   "metadata": {},
   "outputs": [
    {
     "data": {
      "text/plain": [
       "1"
      ]
     },
     "execution_count": 132,
     "metadata": {},
     "output_type": "execute_result"
    }
   ],
   "source": [
    "data = [\"sam\", \"apple\", \"note\", \"pen\", \"jack\", \"cup\", \"watch\"]\n",
    "target= [\"apple\", \"note\", \"note\"]\n",
    "data(\"apple\")"
   ]
  },
  {
   "cell_type": "code",
   "execution_count": 131,
   "metadata": {},
   "outputs": [
    {
     "data": {
      "text/plain": [
       "6"
      ]
     },
     "execution_count": 131,
     "metadata": {},
     "output_type": "execute_result"
    }
   ],
   "source": [
    "data = [\"sam\", \"apple\", \"note\", \"pen\", \"jack\", \"cup\", \"watch\"]\n",
    "target= [\"apple\", \"note\", \"note\"]\n",
    "\n",
    "binary_search(\"watch\", data)"
   ]
  },
  {
   "cell_type": "code",
   "execution_count": 134,
   "metadata": {},
   "outputs": [],
   "source": [
    "players = [\"sam\", \"apple\", \"note\", \"pen\", \"jack\", \"cup\", \"watch\"]\n",
    "callings= [\"apple\", \"note\", \"cup\"]\n",
    "\n",
    "def solution6(players, callings):\n",
    "    for call in callings:\n",
    "        num = players.index(call)        \n",
    "        tem = players[num]\n",
    "        players[num]=players[num-1] \n",
    "        players[num-1] = tem \n",
    "    return players\n"
   ]
  },
  {
   "cell_type": "code",
   "execution_count": 135,
   "metadata": {},
   "outputs": [
    {
     "data": {
      "text/plain": [
       "['apple', 'note', 'sam', 'pen', 'cup', 'jack', 'watch']"
      ]
     },
     "execution_count": 135,
     "metadata": {},
     "output_type": "execute_result"
    }
   ],
   "source": [
    "solution6([\"sam\", \"apple\", \"note\", \"pen\", \"jack\", \"cup\", \"watch\"],\n",
    "         [\"apple\", \"note\", \"cup\"])"
   ]
  },
  {
   "cell_type": "code",
   "execution_count": 153,
   "metadata": {},
   "outputs": [],
   "source": [
    "import copy\n",
    "\n",
    "players = [\"sam\", \"apple\", \"note\", \"pen\", \"jack\", \"cup\", \"watch\"]\n",
    "callings= [\"apple\", \"note\", \"cup\"]\n",
    "\n",
    "def binary_search(target, data):\n",
    "    temp = data.deepcopy()\n",
    "    start = 0 \t\t\t# 맨 처음 위치\n",
    "    end = len(temp) - 1 \t# 맨 마지막 위치\n",
    "\n",
    "    while start <= end:\n",
    "        mid = (start + end) // 2 # 중간값\n",
    "\n",
    "        if temp[mid] == target:\n",
    "            return mid \t\t# target 위치 반환\n",
    "\n",
    "        elif temp[mid] > target: # target이 작으면 왼쪽을 더 탐색\n",
    "            end = mid - 1\n",
    "        else:                    # target이 크면 오른쪽을 더 탐색\n",
    "            start = mid + 1\n",
    "    return \n",
    "\n",
    "def solution7(players, callings):\n",
    "    players_num = np.arange(0, len(players), 1)\n",
    "    callings_num = []\n",
    "    for call in callings:\n",
    "        callings_num.append(players.index(call))  \n",
    "    \n",
    "    for call in callings_num:\n",
    "        num = binary_search(call, players_num)        \n",
    "        tem = players_num[num]\n",
    "        players_num[num]=players_num[num-1] \n",
    "        players_num[num-1] = tem\n",
    "    print(players_num) \n",
    "    return players[players_num]\n"
   ]
  }
 ],
 "metadata": {
  "kernelspec": {
   "display_name": "venv",
   "language": "python",
   "name": "python3"
  },
  "language_info": {
   "codemirror_mode": {
    "name": "ipython",
    "version": 3
   },
   "file_extension": ".py",
   "mimetype": "text/x-python",
   "name": "python",
   "nbconvert_exporter": "python",
   "pygments_lexer": "ipython3",
   "version": "3.12.2"
  }
 },
 "nbformat": 4,
 "nbformat_minor": 2
}
