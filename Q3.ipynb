{
 "cells": [
  {
   "cell_type": "markdown",
   "metadata": {},
   "source": [
    "[문제 링크](https://www.acmicpc.net/problem/30802) by백준\n"
   ]
  },
  {
   "cell_type": "code",
   "execution_count": 5,
   "metadata": {},
   "outputs": [],
   "source": [
    "N = int(input())\n",
    "S, M, L, XL, XXL, XXXL = map(int, input().split())\n",
    "T, P = map(int, input().split())"
   ]
  },
  {
   "cell_type": "code",
   "execution_count": 6,
   "metadata": {},
   "outputs": [
    {
     "name": "stdout",
     "output_type": "stream",
     "text": [
      "23\n",
      "3 1 4 1 5 9\n",
      "5 7\n"
     ]
    }
   ],
   "source": [
    "print(N)\n",
    "print(S, M, L, XL, XXL, XXXL)\n",
    "print(T, P)"
   ]
  },
  {
   "cell_type": "code",
   "execution_count": 29,
   "metadata": {},
   "outputs": [
    {
     "name": "stdout",
     "output_type": "stream",
     "text": [
      "11\n",
      "6 4\n"
     ]
    }
   ],
   "source": [
    "N = int(input())\n",
    "S, M, L, XL, XXL, XXXL = map(int, input().split())\n",
    "T, P = map(int, input().split())\n",
    "\n",
    "Tshirt = [S, M, L, XL, XXL, XXXL]\n",
    "list = [ ]\n",
    "\n",
    "for i in Tshirt:\n",
    "    if i % T == 0:\n",
    "        T_result = i//T\n",
    "    else:\n",
    "        T_result = (i // T)+1\n",
    "    list.append(T_result)\n",
    "\n",
    "print(sum(list))\n",
    "print((N // P), (N % P))"
   ]
  },
  {
   "cell_type": "code",
   "execution_count": null,
   "metadata": {},
   "outputs": [],
   "source": [
    "N = int(input())\n",
    "S, M, L, XL, XXL, XXXL = map(int, input().split())\n",
    "T, P = map(int, input().split())\n",
    "\n",
    "Tshirt = [S, M, L, XL, XXL, XXXL]\n",
    "list = [ ]\n",
    "\n",
    "for i in Tshirt:\n",
    "    if i % T == 0:\n",
    "        T_result = i//T\n",
    "    else:\n",
    "        T_result = (i // T)+1\n",
    "    list.append(T_result)\n",
    "\n",
    "print(sum(list))\n",
    "print((N // P), (N % P))"
   ]
  },
  {
   "cell_type": "markdown",
   "metadata": {},
   "source": [
    "# 시행착오"
   ]
  },
  {
   "cell_type": "code",
   "execution_count": 27,
   "metadata": {},
   "outputs": [
    {
     "name": "stdout",
     "output_type": "stream",
     "text": [
      "11\n",
      "6 4\n"
     ]
    }
   ],
   "source": [
    "N = int(input())\n",
    "S, M, L, XL, XXL, XXXL = map(int, input().split())\n",
    "T, P = map(int, input().split())\n",
    "\n",
    "Tshirt = [S, M, L, XL, XXL, XXXL]\n",
    "list = [ ]\n",
    "\n",
    "for i in Tshirt:\n",
    "    if i <= T:\n",
    "        T_result = 1\n",
    "    else:\n",
    "        if i % T == 0:\n",
    "            T_result = i//T\n",
    "        else:\n",
    "            T_result = (i // T) + 1\n",
    "    list.append(T_result)\n",
    "\n",
    "print(sum(list))\n",
    "print((N // P), (N % P))"
   ]
  }
 ],
 "metadata": {
  "kernelspec": {
   "display_name": "base",
   "language": "python",
   "name": "python3"
  },
  "language_info": {
   "codemirror_mode": {
    "name": "ipython",
    "version": 3
   },
   "file_extension": ".py",
   "mimetype": "text/x-python",
   "name": "python",
   "nbconvert_exporter": "python",
   "pygments_lexer": "ipython3",
   "version": "3.12.2"
  }
 },
 "nbformat": 4,
 "nbformat_minor": 2
}
