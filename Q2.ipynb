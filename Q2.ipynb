{
 "cells": [
  {
   "cell_type": "markdown",
   "metadata": {},
   "source": [
    "[문제 링크](https://school.programmers.co.kr/learn/courses/30/lessons/176963) by 프로그래머스\n",
    "\n",
    "사진들을 보며 추억에 젖어 있던 루는 사진별로 추억 점수를 매길려고 합니다. 사진 속에 나오는 인물의 그리움 점수를 모두 합산한 값이 해당 사진의 추억 점수가 됩니다. 예를 들어 사진 속 인물의 이름이 [\"may\", \"kein\", \"kain\"]이고 각 인물의 그리움 점수가 [5점, 10점, 1점]일 때 해당 사진의 추억 점수는 16(5 + 10 + 1)점이 됩니다. 다른 사진 속 인물의 이름이 [\"kali\", \"mari\", \"don\", \"tony\"]이고 [\"kali\", \"mari\", \"don\"]의 그리움 점수가 각각 [11점, 1점, 55점]]이고, \"tony\"는 그리움 점수가 없을 때, 이 사진의 추억 점수는 3명의 그리움 점수를 합한 67(11 + 1 + 55)점입니다.\n",
    "\n",
    "그리워하는 사람의 이름을 담은 문자열 배열 name, 각 사람별 그리움 점수를 담은 정수 배열 yearning, 각 사진에 찍힌 인물의 이름을 담은 이차원 문자열 배열 photo가 매개변수로 주어질 때, 사진들의 추억 점수를 photo에 주어진 순서대로 배열에 담아 return하는 solution 함수를 완성해주세요."
   ]
  },
  {
   "cell_type": "code",
   "execution_count": 45,
   "metadata": {},
   "outputs": [],
   "source": [
    "name=[\"may\", \"kein\", \"kain\", \"radi\"]\n",
    "yearning=[5, 10, 1, 3]\n",
    "photo=[[\"may\", \"kein\", \"kain\", \"radi\"],\n",
    "       [\"may\", \"kein\", \"brin\", \"deny\"], \n",
    "       [\"kon\", \"kain\", \"may\", \"coni\"]]"
   ]
  },
  {
   "cell_type": "code",
   "execution_count": 48,
   "metadata": {},
   "outputs": [
    {
     "name": "stdout",
     "output_type": "stream",
     "text": [
      "{'may': 5, 'kein': 10, 'kain': 1, 'radi': 3}\n"
     ]
    }
   ],
   "source": [
    "#딕셔너리로 묶어서 이름과 각 인물에 대한 그리움 점수를 짝지어주기\n",
    "name_year_pair = {key : value for key, value in zip(name, yearning)}\n",
    "print(name_year_pair)"
   ]
  },
  {
   "cell_type": "code",
   "execution_count": 3,
   "metadata": {},
   "outputs": [
    {
     "data": {
      "text/plain": [
       "5"
      ]
     },
     "execution_count": 3,
     "metadata": {},
     "output_type": "execute_result"
    }
   ],
   "source": [
    "name_year_pair.get(\"may\")\n",
    "#may 자리에 photo 첫 번째 원소를 오게 만들기\n",
    "name_year_pair.get(photo[0][0]) # may = 5"
   ]
  },
  {
   "cell_type": "code",
   "execution_count": 50,
   "metadata": {},
   "outputs": [
    {
     "data": {
      "text/plain": [
       "19"
      ]
     },
     "execution_count": 50,
     "metadata": {},
     "output_type": "execute_result"
    }
   ],
   "source": [
    "#첫번째 사진의 yearning 값을 뽑은 리스트. \n",
    "photo_1= [ ]\n",
    "for i in range(len(photo[0])):\n",
    "    yearn = name_year_pair.get(photo[0][i])\n",
    "    photo_1.append(yearn)\n",
    "sum(photo_1) #이렇게 뽑은 값이 result1\n",
    "#result 전체 리스트에 넣으려면 result.append() 해서 추가해주면 될 듯"
   ]
  },
  {
   "cell_type": "code",
   "execution_count": 68,
   "metadata": {},
   "outputs": [
    {
     "name": "stdout",
     "output_type": "stream",
     "text": [
      "[[0, 0], [0, 0], [0, 0], [0, 0], [0, 0]]\n"
     ]
    }
   ],
   "source": [
    "#리스트 안에 리스트 구조 만드는 방법\n",
    "\n",
    "all_list = [ ]\n",
    "for i in range(5):\n",
    "    sub_list = [ ]\n",
    "    for j in range(2):\n",
    "        sub_list.append(0)\n",
    "    all_list.append(sub_list)\n",
    "print(all_list)\n"
   ]
  },
  {
   "cell_type": "code",
   "execution_count": 71,
   "metadata": {},
   "outputs": [
    {
     "name": "stdout",
     "output_type": "stream",
     "text": [
      "[[5, 10, 1, 3], [5, 10, None, None], [None, 1, 5, None]]\n"
     ]
    }
   ],
   "source": [
    "name=[\"may\", \"kein\", \"kain\", \"radi\"]\n",
    "yearning=[5, 10, 1, 3]\n",
    "photo=[[\"may\", \"kein\", \"kain\", \"radi\"],\n",
    "       [\"may\", \"kein\", \"brin\", \"deny\"], \n",
    "       [\"kon\", \"kain\", \"may\", \"coni\"]]\n",
    "name_year_pair = {key : value for key, value in zip(name, yearning)}\n",
    "\n",
    "\n",
    "result_list = [ ]\n",
    "for result_num in range(len(photo)):\n",
    "    photo_num_yearning = [ ]\n",
    "    for i in range(len(photo[result_num])):\n",
    "        a = name_year_pair.get(photo[result_num][i])\n",
    "        photo_num_yearning.append(a)\n",
    "    result_list.append(photo_num_yearning)\n",
    "print(result_list)"
   ]
  },
  {
   "cell_type": "code",
   "execution_count": 79,
   "metadata": {},
   "outputs": [
    {
     "name": "stdout",
     "output_type": "stream",
     "text": [
      "[[5, 10, 1, 3], [5, 10, 0, 0], [0, 1, 5, 0]]\n"
     ]
    }
   ],
   "source": [
    "#None 값은 0으로 바꾸어준다 \n",
    "\n",
    "ex = [[5, 10, 1, 3], [5, 10, None, None], [None, 1, 5, None]]\n",
    "for i in range(len(ex)):\n",
    "    ex[i] = [ 0 if x is None else x for x in ex[i]]\n",
    "\n",
    "print(ex)"
   ]
  },
  {
   "cell_type": "code",
   "execution_count": 84,
   "metadata": {},
   "outputs": [
    {
     "name": "stdout",
     "output_type": "stream",
     "text": [
      "[67, 0, 55]\n"
     ]
    }
   ],
   "source": [
    "#리스트의 sum 값으로 구성된 리스트로 리턴해주기\n",
    "\n",
    "name=[\"kali\", \"mari\", \"don\"]\n",
    "yearning=[11, 1, 55]\n",
    "photo=[[\"kali\", \"mari\", \"don\"], [\"pony\", \"tom\", \"teddy\"], [\"con\", \"mona\", \"don\"]]\n",
    "name_year_pair = {key : value for key, value in zip(name, yearning)}\n",
    "\n",
    "result_list = [ ]\n",
    "for result_num in range(len(photo)):\n",
    "    photo_num_yearning = [ ]\n",
    "    for i in range(len(photo[result_num])):\n",
    "        a = name_year_pair.get(photo[result_num][i])\n",
    "        photo_num_yearning.append(a)\n",
    "    result_list.append(photo_num_yearning)\n",
    "\n",
    "for none in range(len(result_list)):\n",
    "    result_list[none] = [0 if x is None else x for x in result_list[none]]\n",
    "\n",
    "answer = [ ]\n",
    "for x in range(len(result_list)):\n",
    "    answer.append(sum(result_list[x]))\n",
    "\n",
    "print(answer)"
   ]
  },
  {
   "cell_type": "code",
   "execution_count": 86,
   "metadata": {},
   "outputs": [],
   "source": [
    "#최종\n",
    "#함수화\n",
    "\n",
    "name=[\"may\", \"kein\", \"kain\", \"radi\"]\n",
    "yearning=[5, 10, 1, 3]\n",
    "photo=[[\"may\", \"kein\", \"kain\", \"radi\"],\n",
    "       [\"may\", \"kein\", \"brin\", \"deny\"], \n",
    "       [\"kon\", \"kain\", \"may\", \"coni\"]]\n",
    "\n",
    "def solution(name, yearning, photo):\n",
    "    name_year_pair= {key : value for key, value in zip(name, yearning)}\n",
    "    \n",
    "    result_list = [ ]\n",
    "\n",
    "    for result_num in range(len(photo)):\n",
    "        photo_num_yearning = [ ]\n",
    "        for i in range(len(photo[result_num])):\n",
    "            a = name_year_pair.get(photo[result_num][i])\n",
    "            photo_num_yearning.append(a)\n",
    "        result_list.append(photo_num_yearning)\n",
    "\n",
    "    #none 값은 0으로 변경해줌\n",
    "    for none in range(len(result_list)):\n",
    "        result_list[none] = [0 if x is None else x for x in result_list[none]]\n",
    "\n",
    "    answer = [ ]\n",
    "    for x in range(len(result_list)):\n",
    "        answer.append(sum(result_list[x]))\n",
    "\n",
    "    return answer"
   ]
  },
  {
   "cell_type": "code",
   "execution_count": 87,
   "metadata": {},
   "outputs": [
    {
     "data": {
      "text/plain": [
       "[19, 15, 6]"
      ]
     },
     "execution_count": 87,
     "metadata": {},
     "output_type": "execute_result"
    }
   ],
   "source": [
    "#검사\n",
    "\n",
    "solution(name=[\"may\", \"kein\", \"kain\", \"radi\"],\n",
    "         yearning = [5, 10, 1, 3],\n",
    "         photo = [[\"may\", \"kein\", \"kain\", \"radi\"],\n",
    "          [\"may\", \"kein\", \"brin\", \"deny\"], \n",
    "          [\"kon\", \"kain\", \"may\", \"coni\"]])"
   ]
  },
  {
   "cell_type": "markdown",
   "metadata": {},
   "source": [
    "# 아래는 시행착오"
   ]
  },
  {
   "cell_type": "code",
   "execution_count": 41,
   "metadata": {},
   "outputs": [],
   "source": [
    "def solution(name, yearning, photo):\n",
    "    name_year_pair= {key : value for key, value in zip(name, yearning)}\n",
    "\n",
    "    answer = [ ]\n",
    "    for result_num in range(1, len(photo)+1):\n",
    "        \n",
    "        for i in range(len(photo[0])):\n",
    "            photoin_yearn = name_year_pair.get(photo[0][i])\n",
    "            photo_num_yearning = photo_num_yearning.append(photoin_yearn)\n",
    "        \n",
    "        answer[result_num] = sum(photo_num_yearning)\n",
    "    return answer\n",
    "\n",
    "    #answer = [result1, result2, result3 ... ]\n",
    "    # answer.append(result1)\n",
    "    # answer.append(result2)\n",
    "    # answer.append(result3)\n",
    "    # result의 개수는 photo의 리스트 개수 -> len(photo) \n",
    "\n",
    "    #result1 = sum(photo1에 등장한 인물들의 yearning 값)\n",
    "    photo_1= [ ]\n",
    "    for i in range(len(photo[0])):\n",
    "    yearn = name_year_pair.get(photo[0][i])\n",
    "    photo_1.append(yearn)\n",
    "    result[i] = sum(photo_1) #이렇게 뽑은 값이 result1\n",
    "\n",
    "    \n",
    "    #photo 안에 사진이 몇 개 들어있는지, 지금은 3개 len(photo)=3 \n",
    "    # -> photo[0], photo[1], photo[2]를 세려고 함\n",
    "    for i in range(len(photo)):\n",
    "        cal = 0\n",
    "        # photo[0]의 사람들을 뽑기\n",
    "        for j in range(len(photo[0])):\n",
    "            yearn = name_year_pair.get(photo[i][j])\n",
    "            cal = cal + yearn\n",
    "            answer.append(cal)\n",
    "    \n",
    "    return answer"
   ]
  }
 ],
 "metadata": {
  "kernelspec": {
   "display_name": "base",
   "language": "python",
   "name": "python3"
  },
  "language_info": {
   "codemirror_mode": {
    "name": "ipython",
    "version": 3
   },
   "file_extension": ".py",
   "mimetype": "text/x-python",
   "name": "python",
   "nbconvert_exporter": "python",
   "pygments_lexer": "ipython3",
   "version": "3.12.2"
  }
 },
 "nbformat": 4,
 "nbformat_minor": 2
}
