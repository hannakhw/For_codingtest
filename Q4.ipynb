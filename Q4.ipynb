{
 "cells": [
  {
   "cell_type": "markdown",
   "metadata": {},
   "source": [
    "[문제 링크](https://school.programmers.co.kr/learn/courses/30/lessons/161990) by 프로그래머스"
   ]
  },
  {
   "cell_type": "code",
   "execution_count": 11,
   "metadata": {},
   "outputs": [
    {
     "name": "stdout",
     "output_type": "stream",
     "text": [
      ".#...\n",
      "#\n",
      "#\n"
     ]
    }
   ],
   "source": [
    "wallpaper = [\".#...\", \"..#..\", \"...#.\"]\n",
    "print(wallpaper[0])\n",
    "print(wallpaper[0][1]) #시작값\n",
    "print(wallpaper[2][3]) #끝값 좌표는 2+1, 3+1"
   ]
  },
  {
   "cell_type": "code",
   "execution_count": 34,
   "metadata": {},
   "outputs": [
    {
     "name": "stdout",
     "output_type": "stream",
     "text": [
      "[(1, 0)]\n",
      "1 0 2 1\n"
     ]
    }
   ],
   "source": [
    "icon = [\"..\", \"#.\"]\n",
    "list = [ ]\n",
    "for atom in range(len(icon)):\n",
    "    for i in range(len(icon[atom])):\n",
    "        if icon[atom][i] == \"#\":\n",
    "            list.append((atom, i))\n",
    "\n",
    "lux = [ ]\n",
    "luy = [ ]\n",
    "for i in range(len(list)):\n",
    "    lux.append(list[i][0])\n",
    "    luy.append(list[i][1])\n",
    "#x중 가장 작은 값 1, y의 가장 작은 값인 3, x의 가장 큰값 4+1, y의 가장 큰값 7+1 이렇게 와야함.\n",
    "\n",
    "print(list)\n",
    "print(min(lux), min(luy), max(lux)+1, max(luy)+1)\n",
    "\n"
   ]
  },
  {
   "cell_type": "code",
   "execution_count": 35,
   "metadata": {},
   "outputs": [],
   "source": [
    "def solution(wallpaper):\n",
    "\n",
    "    list = [ ]\n",
    "    for i in range(len(wallpaper)):\n",
    "        for j in range(len(wallpaper[i])):\n",
    "            if wallpaper[i][j] == \"#\":\n",
    "                list.append((i, j))\n",
    "\n",
    "    lux = [ ]\n",
    "    luy = [ ]\n",
    "    for i in range(len(list)):\n",
    "        lux.append(list[i][0])\n",
    "        luy.append(list[i][1])\n",
    "    \n",
    "    answer = [min(lux), min(luy), max(lux)+1, max(luy)+1]\n",
    "    return answer\n"
   ]
  },
  {
   "cell_type": "code",
   "execution_count": 36,
   "metadata": {},
   "outputs": [
    {
     "data": {
      "text/plain": [
       "[0, 1, 3, 4]"
      ]
     },
     "execution_count": 36,
     "metadata": {},
     "output_type": "execute_result"
    }
   ],
   "source": [
    "solution([\".#...\", \"..#..\", \"...#.\"])"
   ]
  },
  {
   "cell_type": "markdown",
   "metadata": {},
   "source": [
    "# 2차원 좌표 배열 만들기"
   ]
  },
  {
   "cell_type": "code",
   "execution_count": 25,
   "metadata": {},
   "outputs": [
    {
     "ename": "TypeError",
     "evalue": "'int' object is not subscriptable",
     "output_type": "error",
     "traceback": [
      "\u001b[0;31m---------------------------------------------------------------------------\u001b[0m",
      "\u001b[0;31mTypeError\u001b[0m                                 Traceback (most recent call last)",
      "Cell \u001b[0;32mIn[25], line 2\u001b[0m\n\u001b[1;32m      1\u001b[0m w \u001b[38;5;241m=\u001b[39m \u001b[38;5;28mlen\u001b[39m(wallpaper)\n\u001b[0;32m----> 2\u001b[0m start_coordinate \u001b[38;5;241m=\u001b[39m [(y, x) \u001b[38;5;28;01mfor\u001b[39;00m y \u001b[38;5;129;01min\u001b[39;00m \u001b[38;5;28mrange\u001b[39m(w) \u001b[38;5;28;01mfor\u001b[39;00m x \u001b[38;5;129;01min\u001b[39;00m \u001b[38;5;28mrange\u001b[39m(\u001b[38;5;28mlen\u001b[39m(w[\u001b[38;5;241m0\u001b[39m]))]\n\u001b[1;32m      3\u001b[0m \u001b[38;5;28mprint\u001b[39m(start_coordinate)\n\u001b[1;32m      4\u001b[0m end_coordinate \u001b[38;5;241m=\u001b[39m [(y, x) \u001b[38;5;28;01mfor\u001b[39;00m y \u001b[38;5;129;01min\u001b[39;00m \u001b[38;5;28mrange\u001b[39m(\u001b[38;5;241m1\u001b[39m, w\u001b[38;5;241m+\u001b[39m\u001b[38;5;241m1\u001b[39m) \u001b[38;5;28;01mfor\u001b[39;00m x \u001b[38;5;129;01min\u001b[39;00m \u001b[38;5;28mrange\u001b[39m(\u001b[38;5;241m1\u001b[39m, w[\u001b[38;5;241m0\u001b[39m])]\n",
      "\u001b[0;31mTypeError\u001b[0m: 'int' object is not subscriptable"
     ]
    }
   ],
   "source": [
    "w = len(wallpaper)\n",
    "start_coordinate = [(y, x) for y in range(w) for x in range(len(w[0]))]\n",
    "print(start_coordinate)\n",
    "end_coordinate = [(y, x) for y in range(1, w+1) for x in range(1, w[0])]\n",
    "print(end_coordinate)\n",
    "# w[0]을 구할 수 없음..ㅋㅋㅋ 정수 인덱싱 불가해서 아래 오류 뜸!!\n"
   ]
  },
  {
   "cell_type": "code",
   "execution_count": 26,
   "metadata": {},
   "outputs": [
    {
     "name": "stdout",
     "output_type": "stream",
     "text": [
      "[(0, 0), (0, 1), (0, 2), (0, 3), (0, 4), (1, 0), (1, 1), (1, 2), (1, 3), (1, 4), (2, 0), (2, 1), (2, 2), (2, 3), (2, 4)]\n",
      "[(1, 1), (1, 2), (1, 3), (1, 4), (1, 5), (2, 1), (2, 2), (2, 3), (2, 4), (2, 5), (3, 1), (3, 2), (3, 3), (3, 4), (3, 5)]\n"
     ]
    }
   ],
   "source": [
    "h = len(wallpaper)\n",
    "w = len(wallpaper[0])\n",
    "\n",
    "start_coordinate = [(y, x) for y in range(h) for x in range(w)]\n",
    "print(start_coordinate)\n",
    "end_coordinate = [(y, x) for y in range(1, h+1) for x in range(1, w+1)]\n",
    "print(end_coordinate)"
   ]
  },
  {
   "cell_type": "code",
   "execution_count": null,
   "metadata": {},
   "outputs": [],
   "source": []
  }
 ],
 "metadata": {
  "kernelspec": {
   "display_name": "base",
   "language": "python",
   "name": "python3"
  },
  "language_info": {
   "codemirror_mode": {
    "name": "ipython",
    "version": 3
   },
   "file_extension": ".py",
   "mimetype": "text/x-python",
   "name": "python",
   "nbconvert_exporter": "python",
   "pygments_lexer": "ipython3",
   "version": "3.12.2"
  }
 },
 "nbformat": 4,
 "nbformat_minor": 2
}
